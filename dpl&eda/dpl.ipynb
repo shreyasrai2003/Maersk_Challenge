{
 "cells": [
  {
   "metadata": {},
   "cell_type": "markdown",
   "source": "## Data Preprocessing",
   "id": "6c813530bb0a8779"
  },
  {
   "metadata": {
    "ExecuteTime": {
     "end_time": "2024-05-11T14:53:11.398971Z",
     "start_time": "2024-05-11T14:53:11.396668Z"
    }
   },
   "cell_type": "code",
   "source": [
    "import numpy as np\n",
    "import pandas as pd\n",
    "import seaborn as sns\n",
    "import matplotlib.pyplot as plt"
   ],
   "id": "d19186d574724c45",
   "outputs": [],
   "execution_count": 1
  },
  {
   "metadata": {
    "ExecuteTime": {
     "end_time": "2024-05-11T14:53:11.733849Z",
     "start_time": "2024-05-11T14:53:11.446835Z"
    }
   },
   "cell_type": "code",
   "source": [
    "train = pd.read_csv('/Users/shreyas/Desktop/Maersk/Maersk/data/train.csv')\n",
    "test = pd.read_csv('/Users/shreyas/Desktop/Maersk/Maersk/data/test.csv')\n",
    "df = pd.concat([train, test], axis=0)"
   ],
   "id": "effbb590dbc3450",
   "outputs": [],
   "execution_count": 2
  },
  {
   "metadata": {
    "ExecuteTime": {
     "end_time": "2024-05-11T14:53:11.743576Z",
     "start_time": "2024-05-11T14:53:11.735165Z"
    }
   },
   "cell_type": "code",
   "source": "df.head()",
   "id": "eaaff11f953766c3",
   "outputs": [
    {
     "data": {
      "text/plain": [
       "  ProductType Manufacturer Area Code Sourcing Channel Product Size  \\\n",
       "0        NTM3           X1       A28        WHOLESALE        Large   \n",
       "1        NTM2           X1        A9           DIRECT        Large   \n",
       "2        NTM3           X2       A20           DIRECT        Large   \n",
       "3        NTM3           X1       A18        WHOLESALE        Small   \n",
       "4        NTM2           X1       A28           DIRECT        Large   \n",
       "\n",
       "  Product Type Month of Sourcing  Sourcing Cost  \n",
       "0       Powder            May-21          10.16  \n",
       "1       Powder            Oct-20         134.28  \n",
       "2       Powder            Dec-20          12.46  \n",
       "3       Powder            Feb-21         107.22  \n",
       "4       Liquid            Nov-20         197.76  "
      ],
      "text/html": [
       "<div>\n",
       "<style scoped>\n",
       "    .dataframe tbody tr th:only-of-type {\n",
       "        vertical-align: middle;\n",
       "    }\n",
       "\n",
       "    .dataframe tbody tr th {\n",
       "        vertical-align: top;\n",
       "    }\n",
       "\n",
       "    .dataframe thead th {\n",
       "        text-align: right;\n",
       "    }\n",
       "</style>\n",
       "<table border=\"1\" class=\"dataframe\">\n",
       "  <thead>\n",
       "    <tr style=\"text-align: right;\">\n",
       "      <th></th>\n",
       "      <th>ProductType</th>\n",
       "      <th>Manufacturer</th>\n",
       "      <th>Area Code</th>\n",
       "      <th>Sourcing Channel</th>\n",
       "      <th>Product Size</th>\n",
       "      <th>Product Type</th>\n",
       "      <th>Month of Sourcing</th>\n",
       "      <th>Sourcing Cost</th>\n",
       "    </tr>\n",
       "  </thead>\n",
       "  <tbody>\n",
       "    <tr>\n",
       "      <th>0</th>\n",
       "      <td>NTM3</td>\n",
       "      <td>X1</td>\n",
       "      <td>A28</td>\n",
       "      <td>WHOLESALE</td>\n",
       "      <td>Large</td>\n",
       "      <td>Powder</td>\n",
       "      <td>May-21</td>\n",
       "      <td>10.16</td>\n",
       "    </tr>\n",
       "    <tr>\n",
       "      <th>1</th>\n",
       "      <td>NTM2</td>\n",
       "      <td>X1</td>\n",
       "      <td>A9</td>\n",
       "      <td>DIRECT</td>\n",
       "      <td>Large</td>\n",
       "      <td>Powder</td>\n",
       "      <td>Oct-20</td>\n",
       "      <td>134.28</td>\n",
       "    </tr>\n",
       "    <tr>\n",
       "      <th>2</th>\n",
       "      <td>NTM3</td>\n",
       "      <td>X2</td>\n",
       "      <td>A20</td>\n",
       "      <td>DIRECT</td>\n",
       "      <td>Large</td>\n",
       "      <td>Powder</td>\n",
       "      <td>Dec-20</td>\n",
       "      <td>12.46</td>\n",
       "    </tr>\n",
       "    <tr>\n",
       "      <th>3</th>\n",
       "      <td>NTM3</td>\n",
       "      <td>X1</td>\n",
       "      <td>A18</td>\n",
       "      <td>WHOLESALE</td>\n",
       "      <td>Small</td>\n",
       "      <td>Powder</td>\n",
       "      <td>Feb-21</td>\n",
       "      <td>107.22</td>\n",
       "    </tr>\n",
       "    <tr>\n",
       "      <th>4</th>\n",
       "      <td>NTM2</td>\n",
       "      <td>X1</td>\n",
       "      <td>A28</td>\n",
       "      <td>DIRECT</td>\n",
       "      <td>Large</td>\n",
       "      <td>Liquid</td>\n",
       "      <td>Nov-20</td>\n",
       "      <td>197.76</td>\n",
       "    </tr>\n",
       "  </tbody>\n",
       "</table>\n",
       "</div>"
      ]
     },
     "execution_count": 3,
     "metadata": {},
     "output_type": "execute_result"
    }
   ],
   "execution_count": 3
  },
  {
   "metadata": {
    "ExecuteTime": {
     "end_time": "2024-05-11T14:53:11.834274Z",
     "start_time": "2024-05-11T14:53:11.744147Z"
    }
   },
   "cell_type": "code",
   "source": "df.info()",
   "id": "c55eb71b7420d2ad",
   "outputs": [
    {
     "name": "stdout",
     "output_type": "stream",
     "text": [
      "<class 'pandas.core.frame.DataFrame'>\n",
      "Index: 550272 entries, 0 to 95\n",
      "Data columns (total 8 columns):\n",
      " #   Column             Non-Null Count   Dtype  \n",
      "---  ------             --------------   -----  \n",
      " 0   ProductType        550272 non-null  object \n",
      " 1   Manufacturer       550272 non-null  object \n",
      " 2   Area Code          550272 non-null  object \n",
      " 3   Sourcing Channel   550272 non-null  object \n",
      " 4   Product Size       550272 non-null  object \n",
      " 5   Product Type       550272 non-null  object \n",
      " 6   Month of Sourcing  550272 non-null  object \n",
      " 7   Sourcing Cost      550272 non-null  float64\n",
      "dtypes: float64(1), object(7)\n",
      "memory usage: 37.8+ MB\n"
     ]
    }
   ],
   "execution_count": 4
  },
  {
   "metadata": {
    "ExecuteTime": {
     "end_time": "2024-05-11T14:53:11.957322Z",
     "start_time": "2024-05-11T14:53:11.835800Z"
    }
   },
   "cell_type": "code",
   "source": "df.nunique()",
   "id": "83d4752acd5e1dac",
   "outputs": [
    {
     "data": {
      "text/plain": [
       "ProductType             3\n",
       "Manufacturer            3\n",
       "Area Code              45\n",
       "Sourcing Channel        4\n",
       "Product Size            3\n",
       "Product Type            2\n",
       "Month of Sourcing      12\n",
       "Sourcing Cost        4596\n",
       "dtype: int64"
      ]
     },
     "execution_count": 5,
     "metadata": {},
     "output_type": "execute_result"
    }
   ],
   "execution_count": 5
  },
  {
   "metadata": {
    "ExecuteTime": {
     "end_time": "2024-05-11T14:53:12.096207Z",
     "start_time": "2024-05-11T14:53:11.957960Z"
    }
   },
   "cell_type": "code",
   "source": "df.duplicated().sum()",
   "id": "f8efc329eea9f30a",
   "outputs": [
    {
     "data": {
      "text/plain": [
       "542796"
      ]
     },
     "execution_count": 6,
     "metadata": {},
     "output_type": "execute_result"
    }
   ],
   "execution_count": 6
  },
  {
   "metadata": {
    "ExecuteTime": {
     "end_time": "2024-05-11T14:53:12.241422Z",
     "start_time": "2024-05-11T14:53:12.096793Z"
    }
   },
   "cell_type": "code",
   "source": [
    "df_unique = df.drop_duplicates(keep='first')\n",
    "df_unique.count()"
   ],
   "id": "2918ceba364e6018",
   "outputs": [
    {
     "data": {
      "text/plain": [
       "ProductType          7476\n",
       "Manufacturer         7476\n",
       "Area Code            7476\n",
       "Sourcing Channel     7476\n",
       "Product Size         7476\n",
       "Product Type         7476\n",
       "Month of Sourcing    7476\n",
       "Sourcing Cost        7476\n",
       "dtype: int64"
      ]
     },
     "execution_count": 7,
     "metadata": {},
     "output_type": "execute_result"
    }
   ],
   "execution_count": 7
  },
  {
   "metadata": {
    "ExecuteTime": {
     "end_time": "2024-05-11T14:53:12.244893Z",
     "start_time": "2024-05-11T14:53:12.242302Z"
    }
   },
   "cell_type": "code",
   "source": "df.columns",
   "id": "86296822b21dfa39",
   "outputs": [
    {
     "data": {
      "text/plain": [
       "Index(['ProductType', 'Manufacturer', 'Area Code', 'Sourcing Channel',\n",
       "       'Product Size', 'Product Type', 'Month of Sourcing', 'Sourcing Cost'],\n",
       "      dtype='object')"
      ]
     },
     "execution_count": 8,
     "metadata": {},
     "output_type": "execute_result"
    }
   ],
   "execution_count": 8
  },
  {
   "metadata": {},
   "cell_type": "markdown",
   "source": "## LabelEncoding columns",
   "id": "e03f64035c81cda1"
  },
  {
   "metadata": {
    "ExecuteTime": {
     "end_time": "2024-05-11T14:53:12.354778Z",
     "start_time": "2024-05-11T14:53:12.245627Z"
    }
   },
   "cell_type": "code",
   "source": [
    "from sklearn.preprocessing import LabelEncoder\n",
    "lenc = LabelEncoder()"
   ],
   "id": "674010a870e2d14b",
   "outputs": [],
   "execution_count": 9
  },
  {
   "metadata": {
    "ExecuteTime": {
     "end_time": "2024-05-11T14:53:12.409668Z",
     "start_time": "2024-05-11T14:53:12.355429Z"
    }
   },
   "cell_type": "code",
   "source": "df['ProdType_enc'] = lenc.fit_transform(df['ProductType'])",
   "id": "f13bbe4d93ec3869",
   "outputs": [],
   "execution_count": 10
  },
  {
   "metadata": {
    "ExecuteTime": {
     "end_time": "2024-05-11T14:53:12.464774Z",
     "start_time": "2024-05-11T14:53:12.411908Z"
    }
   },
   "cell_type": "code",
   "source": "df['Manufacturer_enc'] = lenc.fit_transform(df['Manufacturer'])",
   "id": "e254a7ca96e14a8b",
   "outputs": [],
   "execution_count": 11
  },
  {
   "metadata": {
    "ExecuteTime": {
     "end_time": "2024-05-11T14:53:12.523947Z",
     "start_time": "2024-05-11T14:53:12.465416Z"
    }
   },
   "cell_type": "code",
   "source": [
    "df.rename(columns={'Area Code': 'AreaCode'}, inplace=True)\n",
    "df['AreaCode_enc'] = lenc.fit_transform(df['AreaCode'])"
   ],
   "id": "a4c459e91db07b72",
   "outputs": [],
   "execution_count": 12
  },
  {
   "metadata": {
    "ExecuteTime": {
     "end_time": "2024-05-11T14:53:12.577509Z",
     "start_time": "2024-05-11T14:53:12.524680Z"
    }
   },
   "cell_type": "code",
   "source": [
    "df.rename(columns={'Sourcing Channel': 'SourcingChannel'}, inplace=True)\n",
    "df['SrcChnl_enc'] = lenc.fit_transform(df['SourcingChannel'])"
   ],
   "id": "585ed85e5c359aa8",
   "outputs": [],
   "execution_count": 13
  },
  {
   "metadata": {
    "ExecuteTime": {
     "end_time": "2024-05-11T14:53:12.632493Z",
     "start_time": "2024-05-11T14:53:12.578269Z"
    }
   },
   "cell_type": "code",
   "source": [
    "df.rename(columns={'Product Size': 'ProductSize'}, inplace=True)\n",
    "df['ProdSize_enc'] = lenc.fit_transform(df['ProductSize'])"
   ],
   "id": "ae67186072a1e635",
   "outputs": [],
   "execution_count": 14
  },
  {
   "metadata": {
    "ExecuteTime": {
     "end_time": "2024-05-11T14:53:12.668255Z",
     "start_time": "2024-05-11T14:53:12.633336Z"
    }
   },
   "cell_type": "code",
   "source": [
    "df.rename(columns={'Month of Sourcing': 'MonthofSourcing'}, inplace=True)\n",
    "month_mapping = {\n",
    "    \"Jul-20\": 0,\n",
    "    \"Aug-20\": 1,\n",
    "    \"Sep-20\": 2,\n",
    "    \"Oct-20\": 3,\n",
    "    \"Nov-20\": 4,\n",
    "    \"Dec-20\": 5,\n",
    "    \"Jan-21\": 6,\n",
    "    \"Feb-21\": 7,\n",
    "    \"Mar-21\": 8,\n",
    "    \"Apr-21\": 9,\n",
    "    \"May-21\": 10,\n",
    "    \"Jun-21\": 11\n",
    "}\n",
    "\n",
    "df['SrcMonth_enc'] = df['MonthofSourcing'].map(month_mapping)"
   ],
   "id": "5a93307c6935d624",
   "outputs": [],
   "execution_count": 15
  },
  {
   "metadata": {
    "ExecuteTime": {
     "end_time": "2024-05-11T14:53:12.670925Z",
     "start_time": "2024-05-11T14:53:12.669047Z"
    }
   },
   "cell_type": "code",
   "source": "df.rename(columns={'Sourcing Cost': 'SourcingCost'}, inplace=True)",
   "id": "ca30ca4be174bda",
   "outputs": [],
   "execution_count": 16
  },
  {
   "metadata": {
    "ExecuteTime": {
     "end_time": "2024-05-11T14:53:12.673423Z",
     "start_time": "2024-05-11T14:53:12.671456Z"
    }
   },
   "cell_type": "code",
   "source": "df.columns",
   "id": "c5da193a3492f067",
   "outputs": [
    {
     "data": {
      "text/plain": [
       "Index(['ProductType', 'Manufacturer', 'AreaCode', 'SourcingChannel',\n",
       "       'ProductSize', 'Product Type', 'MonthofSourcing', 'SourcingCost',\n",
       "       'ProdType_enc', 'Manufacturer_enc', 'AreaCode_enc', 'SrcChnl_enc',\n",
       "       'ProdSize_enc', 'SrcMonth_enc'],\n",
       "      dtype='object')"
      ]
     },
     "execution_count": 17,
     "metadata": {},
     "output_type": "execute_result"
    }
   ],
   "execution_count": 17
  },
  {
   "metadata": {
    "ExecuteTime": {
     "end_time": "2024-05-11T14:53:12.678471Z",
     "start_time": "2024-05-11T14:53:12.673983Z"
    }
   },
   "cell_type": "code",
   "source": "df.head()",
   "id": "a2144375830a18e2",
   "outputs": [
    {
     "data": {
      "text/plain": [
       "  ProductType Manufacturer AreaCode SourcingChannel ProductSize Product Type  \\\n",
       "0        NTM3           X1      A28       WHOLESALE       Large       Powder   \n",
       "1        NTM2           X1       A9          DIRECT       Large       Powder   \n",
       "2        NTM3           X2      A20          DIRECT       Large       Powder   \n",
       "3        NTM3           X1      A18       WHOLESALE       Small       Powder   \n",
       "4        NTM2           X1      A28          DIRECT       Large       Liquid   \n",
       "\n",
       "  MonthofSourcing  SourcingCost  ProdType_enc  Manufacturer_enc  AreaCode_enc  \\\n",
       "0          May-21         10.16             2                 0            19   \n",
       "1          Oct-20        134.28             1                 0            44   \n",
       "2          Dec-20         12.46             2                 1            12   \n",
       "3          Feb-21        107.22             2                 0             9   \n",
       "4          Nov-20        197.76             1                 0            19   \n",
       "\n",
       "   SrcChnl_enc  ProdSize_enc  SrcMonth_enc  \n",
       "0            3             1            10  \n",
       "1            0             1             3  \n",
       "2            0             1             5  \n",
       "3            3             2             7  \n",
       "4            0             1             4  "
      ],
      "text/html": [
       "<div>\n",
       "<style scoped>\n",
       "    .dataframe tbody tr th:only-of-type {\n",
       "        vertical-align: middle;\n",
       "    }\n",
       "\n",
       "    .dataframe tbody tr th {\n",
       "        vertical-align: top;\n",
       "    }\n",
       "\n",
       "    .dataframe thead th {\n",
       "        text-align: right;\n",
       "    }\n",
       "</style>\n",
       "<table border=\"1\" class=\"dataframe\">\n",
       "  <thead>\n",
       "    <tr style=\"text-align: right;\">\n",
       "      <th></th>\n",
       "      <th>ProductType</th>\n",
       "      <th>Manufacturer</th>\n",
       "      <th>AreaCode</th>\n",
       "      <th>SourcingChannel</th>\n",
       "      <th>ProductSize</th>\n",
       "      <th>Product Type</th>\n",
       "      <th>MonthofSourcing</th>\n",
       "      <th>SourcingCost</th>\n",
       "      <th>ProdType_enc</th>\n",
       "      <th>Manufacturer_enc</th>\n",
       "      <th>AreaCode_enc</th>\n",
       "      <th>SrcChnl_enc</th>\n",
       "      <th>ProdSize_enc</th>\n",
       "      <th>SrcMonth_enc</th>\n",
       "    </tr>\n",
       "  </thead>\n",
       "  <tbody>\n",
       "    <tr>\n",
       "      <th>0</th>\n",
       "      <td>NTM3</td>\n",
       "      <td>X1</td>\n",
       "      <td>A28</td>\n",
       "      <td>WHOLESALE</td>\n",
       "      <td>Large</td>\n",
       "      <td>Powder</td>\n",
       "      <td>May-21</td>\n",
       "      <td>10.16</td>\n",
       "      <td>2</td>\n",
       "      <td>0</td>\n",
       "      <td>19</td>\n",
       "      <td>3</td>\n",
       "      <td>1</td>\n",
       "      <td>10</td>\n",
       "    </tr>\n",
       "    <tr>\n",
       "      <th>1</th>\n",
       "      <td>NTM2</td>\n",
       "      <td>X1</td>\n",
       "      <td>A9</td>\n",
       "      <td>DIRECT</td>\n",
       "      <td>Large</td>\n",
       "      <td>Powder</td>\n",
       "      <td>Oct-20</td>\n",
       "      <td>134.28</td>\n",
       "      <td>1</td>\n",
       "      <td>0</td>\n",
       "      <td>44</td>\n",
       "      <td>0</td>\n",
       "      <td>1</td>\n",
       "      <td>3</td>\n",
       "    </tr>\n",
       "    <tr>\n",
       "      <th>2</th>\n",
       "      <td>NTM3</td>\n",
       "      <td>X2</td>\n",
       "      <td>A20</td>\n",
       "      <td>DIRECT</td>\n",
       "      <td>Large</td>\n",
       "      <td>Powder</td>\n",
       "      <td>Dec-20</td>\n",
       "      <td>12.46</td>\n",
       "      <td>2</td>\n",
       "      <td>1</td>\n",
       "      <td>12</td>\n",
       "      <td>0</td>\n",
       "      <td>1</td>\n",
       "      <td>5</td>\n",
       "    </tr>\n",
       "    <tr>\n",
       "      <th>3</th>\n",
       "      <td>NTM3</td>\n",
       "      <td>X1</td>\n",
       "      <td>A18</td>\n",
       "      <td>WHOLESALE</td>\n",
       "      <td>Small</td>\n",
       "      <td>Powder</td>\n",
       "      <td>Feb-21</td>\n",
       "      <td>107.22</td>\n",
       "      <td>2</td>\n",
       "      <td>0</td>\n",
       "      <td>9</td>\n",
       "      <td>3</td>\n",
       "      <td>2</td>\n",
       "      <td>7</td>\n",
       "    </tr>\n",
       "    <tr>\n",
       "      <th>4</th>\n",
       "      <td>NTM2</td>\n",
       "      <td>X1</td>\n",
       "      <td>A28</td>\n",
       "      <td>DIRECT</td>\n",
       "      <td>Large</td>\n",
       "      <td>Liquid</td>\n",
       "      <td>Nov-20</td>\n",
       "      <td>197.76</td>\n",
       "      <td>1</td>\n",
       "      <td>0</td>\n",
       "      <td>19</td>\n",
       "      <td>0</td>\n",
       "      <td>1</td>\n",
       "      <td>4</td>\n",
       "    </tr>\n",
       "  </tbody>\n",
       "</table>\n",
       "</div>"
      ]
     },
     "execution_count": 18,
     "metadata": {},
     "output_type": "execute_result"
    }
   ],
   "execution_count": 18
  },
  {
   "metadata": {
    "ExecuteTime": {
     "end_time": "2024-05-11T14:53:12.780663Z",
     "start_time": "2024-05-11T14:53:12.679370Z"
    }
   },
   "cell_type": "code",
   "source": [
    "label_mappings = {}\n",
    "\n",
    "for col in df.columns:\n",
    "    if df[col].dtype == 'object':\n",
    "        if col != 'MonthofSourcing':\n",
    "            unique_values = df[col].unique()\n",
    "            encoded_labels = lenc.fit_transform(unique_values)\n",
    "        else:\n",
    "            unique_values = [\"Jul-20\", \"Aug-20\", \"Sep-20\", \"Oct-20\", \"Nov-20\", \"Dec-20\", \"Jan-21\", \"Feb-21\", \"Mar-21\", \"Apr-21\", \"May-21\", \"Jun-21\"]\n",
    "            encoded_labels = labels = list(range(len(unique_values)))\n",
    "        label_mappings[col] = []\n",
    "        for i, j in zip(unique_values, encoded_labels):\n",
    "            label_mappings[col].append([i, j])\n",
    "\n",
    "print(\"Label Mappings:\")\n",
    "print(label_mappings)"
   ],
   "id": "cfceef65a43d64d8",
   "outputs": [
    {
     "name": "stdout",
     "output_type": "stream",
     "text": [
      "Label Mappings:\n",
      "{'ProductType': [['NTM3', 2], ['NTM2', 1], ['NTM1', 0]], 'Manufacturer': [['X1', 0], ['X2', 1], ['X3', 2]], 'AreaCode': [['A28', 19], ['A9', 44], ['A20', 12], ['A18', 9], ['A10', 1], ['A19', 10], ['A29', 20], ['A7', 42], ['A2', 11], ['A8', 43], ['A4', 32], ['A6', 41], ['A30', 22], ['A35', 27], ['A44', 37], ['A45', 38], ['A31', 23], ['A25', 17], ['A37', 29], ['A32', 24], ['A34', 26], ['A46', 39], ['A11', 2], ['A39', 31], ['A41', 34], ['A17', 8], ['A38', 30], ['A5', 40], ['A22', 14], ['A3', 21], ['A12', 3], ['A24', 16], ['A36', 28], ['A42', 35], ['A14', 5], ['A43', 36], ['A33', 25], ['A15', 6], ['A40', 33], ['A21', 13], ['A16', 7], ['A13', 4], ['A1', 0], ['A23', 15], ['A26', 18]], 'SourcingChannel': [['WHOLESALE', 3], ['DIRECT', 0], ['RETAIL', 2], ['ECOM', 1]], 'ProductSize': [['Large', 1], ['Small', 2], ['ExtraLarge', 0]], 'Product Type': [['Powder', 1], ['Liquid', 0]], 'MonthofSourcing': [['Jul-20', 0], ['Aug-20', 1], ['Sep-20', 2], ['Oct-20', 3], ['Nov-20', 4], ['Dec-20', 5], ['Jan-21', 6], ['Feb-21', 7], ['Mar-21', 8], ['Apr-21', 9], ['May-21', 10], ['Jun-21', 11]]}\n"
     ]
    }
   ],
   "execution_count": 19
  },
  {
   "metadata": {
    "ExecuteTime": {
     "end_time": "2024-05-11T14:53:12.784804Z",
     "start_time": "2024-05-11T14:53:12.781253Z"
    }
   },
   "cell_type": "code",
   "source": [
    "import json\n",
    "import pandas as pd\n",
    "\n",
    "label_mappings = {\n",
    "    key: [[val[0], int(val[1])] for val in values]\n",
    "    for key, values in label_mappings.items()\n",
    "}\n",
    "\n",
    "filename = 'label_mapping.json'\n",
    "\n",
    "with open(filename, 'w') as f:\n",
    "    json.dump(label_mappings, f, indent=4)\n",
    "\n",
    "print(\"Label Mapping Saved to:\", filename)"
   ],
   "id": "3229f3eb5541b3bf",
   "outputs": [
    {
     "name": "stdout",
     "output_type": "stream",
     "text": [
      "Label Mapping Saved to: label_mapping.json\n"
     ]
    }
   ],
   "execution_count": 20
  },
  {
   "metadata": {},
   "cell_type": "markdown",
   "source": "## Encoded Dataset",
   "id": "8528c2a0a2725971"
  },
  {
   "metadata": {
    "ExecuteTime": {
     "end_time": "2024-05-11T14:53:12.794706Z",
     "start_time": "2024-05-11T14:53:12.785480Z"
    }
   },
   "cell_type": "code",
   "source": "df_enc = df[['ProdType_enc', 'Manufacturer_enc', 'AreaCode_enc', 'SrcChnl_enc', 'ProdSize_enc', 'SrcMonth_enc', 'SourcingCost']]",
   "id": "41e9c4e6a0c19ddc",
   "outputs": [],
   "execution_count": 21
  },
  {
   "metadata": {
    "ExecuteTime": {
     "end_time": "2024-05-11T14:53:12.799665Z",
     "start_time": "2024-05-11T14:53:12.795534Z"
    }
   },
   "cell_type": "code",
   "source": "df_enc.head()",
   "id": "8164be37aec5a132",
   "outputs": [
    {
     "data": {
      "text/plain": [
       "   ProdType_enc  Manufacturer_enc  AreaCode_enc  SrcChnl_enc  ProdSize_enc  \\\n",
       "0             2                 0            19            3             1   \n",
       "1             1                 0            44            0             1   \n",
       "2             2                 1            12            0             1   \n",
       "3             2                 0             9            3             2   \n",
       "4             1                 0            19            0             1   \n",
       "\n",
       "   SrcMonth_enc  SourcingCost  \n",
       "0            10         10.16  \n",
       "1             3        134.28  \n",
       "2             5         12.46  \n",
       "3             7        107.22  \n",
       "4             4        197.76  "
      ],
      "text/html": [
       "<div>\n",
       "<style scoped>\n",
       "    .dataframe tbody tr th:only-of-type {\n",
       "        vertical-align: middle;\n",
       "    }\n",
       "\n",
       "    .dataframe tbody tr th {\n",
       "        vertical-align: top;\n",
       "    }\n",
       "\n",
       "    .dataframe thead th {\n",
       "        text-align: right;\n",
       "    }\n",
       "</style>\n",
       "<table border=\"1\" class=\"dataframe\">\n",
       "  <thead>\n",
       "    <tr style=\"text-align: right;\">\n",
       "      <th></th>\n",
       "      <th>ProdType_enc</th>\n",
       "      <th>Manufacturer_enc</th>\n",
       "      <th>AreaCode_enc</th>\n",
       "      <th>SrcChnl_enc</th>\n",
       "      <th>ProdSize_enc</th>\n",
       "      <th>SrcMonth_enc</th>\n",
       "      <th>SourcingCost</th>\n",
       "    </tr>\n",
       "  </thead>\n",
       "  <tbody>\n",
       "    <tr>\n",
       "      <th>0</th>\n",
       "      <td>2</td>\n",
       "      <td>0</td>\n",
       "      <td>19</td>\n",
       "      <td>3</td>\n",
       "      <td>1</td>\n",
       "      <td>10</td>\n",
       "      <td>10.16</td>\n",
       "    </tr>\n",
       "    <tr>\n",
       "      <th>1</th>\n",
       "      <td>1</td>\n",
       "      <td>0</td>\n",
       "      <td>44</td>\n",
       "      <td>0</td>\n",
       "      <td>1</td>\n",
       "      <td>3</td>\n",
       "      <td>134.28</td>\n",
       "    </tr>\n",
       "    <tr>\n",
       "      <th>2</th>\n",
       "      <td>2</td>\n",
       "      <td>1</td>\n",
       "      <td>12</td>\n",
       "      <td>0</td>\n",
       "      <td>1</td>\n",
       "      <td>5</td>\n",
       "      <td>12.46</td>\n",
       "    </tr>\n",
       "    <tr>\n",
       "      <th>3</th>\n",
       "      <td>2</td>\n",
       "      <td>0</td>\n",
       "      <td>9</td>\n",
       "      <td>3</td>\n",
       "      <td>2</td>\n",
       "      <td>7</td>\n",
       "      <td>107.22</td>\n",
       "    </tr>\n",
       "    <tr>\n",
       "      <th>4</th>\n",
       "      <td>1</td>\n",
       "      <td>0</td>\n",
       "      <td>19</td>\n",
       "      <td>0</td>\n",
       "      <td>1</td>\n",
       "      <td>4</td>\n",
       "      <td>197.76</td>\n",
       "    </tr>\n",
       "  </tbody>\n",
       "</table>\n",
       "</div>"
      ]
     },
     "execution_count": 22,
     "metadata": {},
     "output_type": "execute_result"
    }
   ],
   "execution_count": 22
  },
  {
   "metadata": {
    "ExecuteTime": {
     "end_time": "2024-05-11T14:53:13.412072Z",
     "start_time": "2024-05-11T14:53:12.800510Z"
    }
   },
   "cell_type": "code",
   "source": "df_enc.to_csv('df_enc.csv', index=False)",
   "id": "ad7c44c4f1eee6ea",
   "outputs": [],
   "execution_count": 23
  }
 ],
 "metadata": {
  "kernelspec": {
   "display_name": "Python 3",
   "language": "python",
   "name": "python3"
  },
  "language_info": {
   "codemirror_mode": {
    "name": "ipython",
    "version": 2
   },
   "file_extension": ".py",
   "mimetype": "text/x-python",
   "name": "python",
   "nbconvert_exporter": "python",
   "pygments_lexer": "ipython2",
   "version": "2.7.6"
  }
 },
 "nbformat": 4,
 "nbformat_minor": 5
}
