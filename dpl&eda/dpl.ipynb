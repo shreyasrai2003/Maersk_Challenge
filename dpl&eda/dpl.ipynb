{
 "cells": [
  {
   "metadata": {},
   "cell_type": "markdown",
   "source": "## Data Preprocessing & Exploratory Data Analysis",
   "id": "6c813530bb0a8779"
  },
  {
   "metadata": {
    "ExecuteTime": {
     "end_time": "2024-05-11T08:25:16.742212Z",
     "start_time": "2024-05-11T08:25:16.740223Z"
    }
   },
   "cell_type": "code",
   "source": [
    "import numpy as np\n",
    "import pandas as pd\n",
    "import seaborn as sns\n",
    "import matplotlib.pyplot as plt"
   ],
   "id": "d19186d574724c45",
   "outputs": [],
   "execution_count": 151
  },
  {
   "metadata": {
    "ExecuteTime": {
     "end_time": "2024-05-11T08:25:17.034926Z",
     "start_time": "2024-05-11T08:25:16.764790Z"
    }
   },
   "cell_type": "code",
   "source": "df = pd.read_csv('/Users/shreyas/Desktop/Maersk/Maersk/data/train.csv')",
   "id": "effbb590dbc3450",
   "outputs": [],
   "execution_count": 152
  },
  {
   "metadata": {
    "ExecuteTime": {
     "end_time": "2024-05-11T08:25:17.040442Z",
     "start_time": "2024-05-11T08:25:17.036212Z"
    }
   },
   "cell_type": "code",
   "source": "df.head()",
   "id": "d69825f383d60e18",
   "outputs": [
    {
     "data": {
      "text/plain": [
       "  ProductType Manufacturer Area Code Sourcing Channel Product Size  \\\n",
       "0        NTM3           X1       A28        WHOLESALE        Large   \n",
       "1        NTM2           X1        A9           DIRECT        Large   \n",
       "2        NTM3           X2       A20           DIRECT        Large   \n",
       "3        NTM3           X1       A18        WHOLESALE        Small   \n",
       "4        NTM2           X1       A28           DIRECT        Large   \n",
       "\n",
       "  Product Type Month of Sourcing  Sourcing Cost  \n",
       "0       Powder            May-21          10.16  \n",
       "1       Powder            Oct-20         134.28  \n",
       "2       Powder            Dec-20          12.46  \n",
       "3       Powder            Feb-21         107.22  \n",
       "4       Liquid            Nov-20         197.76  "
      ],
      "text/html": [
       "<div>\n",
       "<style scoped>\n",
       "    .dataframe tbody tr th:only-of-type {\n",
       "        vertical-align: middle;\n",
       "    }\n",
       "\n",
       "    .dataframe tbody tr th {\n",
       "        vertical-align: top;\n",
       "    }\n",
       "\n",
       "    .dataframe thead th {\n",
       "        text-align: right;\n",
       "    }\n",
       "</style>\n",
       "<table border=\"1\" class=\"dataframe\">\n",
       "  <thead>\n",
       "    <tr style=\"text-align: right;\">\n",
       "      <th></th>\n",
       "      <th>ProductType</th>\n",
       "      <th>Manufacturer</th>\n",
       "      <th>Area Code</th>\n",
       "      <th>Sourcing Channel</th>\n",
       "      <th>Product Size</th>\n",
       "      <th>Product Type</th>\n",
       "      <th>Month of Sourcing</th>\n",
       "      <th>Sourcing Cost</th>\n",
       "    </tr>\n",
       "  </thead>\n",
       "  <tbody>\n",
       "    <tr>\n",
       "      <th>0</th>\n",
       "      <td>NTM3</td>\n",
       "      <td>X1</td>\n",
       "      <td>A28</td>\n",
       "      <td>WHOLESALE</td>\n",
       "      <td>Large</td>\n",
       "      <td>Powder</td>\n",
       "      <td>May-21</td>\n",
       "      <td>10.16</td>\n",
       "    </tr>\n",
       "    <tr>\n",
       "      <th>1</th>\n",
       "      <td>NTM2</td>\n",
       "      <td>X1</td>\n",
       "      <td>A9</td>\n",
       "      <td>DIRECT</td>\n",
       "      <td>Large</td>\n",
       "      <td>Powder</td>\n",
       "      <td>Oct-20</td>\n",
       "      <td>134.28</td>\n",
       "    </tr>\n",
       "    <tr>\n",
       "      <th>2</th>\n",
       "      <td>NTM3</td>\n",
       "      <td>X2</td>\n",
       "      <td>A20</td>\n",
       "      <td>DIRECT</td>\n",
       "      <td>Large</td>\n",
       "      <td>Powder</td>\n",
       "      <td>Dec-20</td>\n",
       "      <td>12.46</td>\n",
       "    </tr>\n",
       "    <tr>\n",
       "      <th>3</th>\n",
       "      <td>NTM3</td>\n",
       "      <td>X1</td>\n",
       "      <td>A18</td>\n",
       "      <td>WHOLESALE</td>\n",
       "      <td>Small</td>\n",
       "      <td>Powder</td>\n",
       "      <td>Feb-21</td>\n",
       "      <td>107.22</td>\n",
       "    </tr>\n",
       "    <tr>\n",
       "      <th>4</th>\n",
       "      <td>NTM2</td>\n",
       "      <td>X1</td>\n",
       "      <td>A28</td>\n",
       "      <td>DIRECT</td>\n",
       "      <td>Large</td>\n",
       "      <td>Liquid</td>\n",
       "      <td>Nov-20</td>\n",
       "      <td>197.76</td>\n",
       "    </tr>\n",
       "  </tbody>\n",
       "</table>\n",
       "</div>"
      ]
     },
     "execution_count": 153,
     "metadata": {},
     "output_type": "execute_result"
    }
   ],
   "execution_count": 153
  },
  {
   "metadata": {
    "ExecuteTime": {
     "end_time": "2024-05-11T08:25:17.128934Z",
     "start_time": "2024-05-11T08:25:17.041199Z"
    }
   },
   "cell_type": "code",
   "source": "df.info()",
   "id": "c55eb71b7420d2ad",
   "outputs": [
    {
     "name": "stdout",
     "output_type": "stream",
     "text": [
      "<class 'pandas.core.frame.DataFrame'>\n",
      "RangeIndex: 550176 entries, 0 to 550175\n",
      "Data columns (total 8 columns):\n",
      " #   Column             Non-Null Count   Dtype  \n",
      "---  ------             --------------   -----  \n",
      " 0   ProductType        550176 non-null  object \n",
      " 1   Manufacturer       550176 non-null  object \n",
      " 2   Area Code          550176 non-null  object \n",
      " 3   Sourcing Channel   550176 non-null  object \n",
      " 4   Product Size       550176 non-null  object \n",
      " 5   Product Type       550176 non-null  object \n",
      " 6   Month of Sourcing  550176 non-null  object \n",
      " 7   Sourcing Cost      550176 non-null  float64\n",
      "dtypes: float64(1), object(7)\n",
      "memory usage: 33.6+ MB\n"
     ]
    }
   ],
   "execution_count": 154
  },
  {
   "metadata": {
    "ExecuteTime": {
     "end_time": "2024-05-11T08:25:17.249533Z",
     "start_time": "2024-05-11T08:25:17.130444Z"
    }
   },
   "cell_type": "code",
   "source": "df.nunique()",
   "id": "83d4752acd5e1dac",
   "outputs": [
    {
     "data": {
      "text/plain": [
       "ProductType             3\n",
       "Manufacturer            3\n",
       "Area Code              45\n",
       "Sourcing Channel        4\n",
       "Product Size            3\n",
       "Product Type            2\n",
       "Month of Sourcing      11\n",
       "Sourcing Cost        4529\n",
       "dtype: int64"
      ]
     },
     "execution_count": 155,
     "metadata": {},
     "output_type": "execute_result"
    }
   ],
   "execution_count": 155
  },
  {
   "metadata": {
    "ExecuteTime": {
     "end_time": "2024-05-11T08:25:17.386465Z",
     "start_time": "2024-05-11T08:25:17.250323Z"
    }
   },
   "cell_type": "code",
   "source": "df.duplicated().sum()",
   "id": "f8efc329eea9f30a",
   "outputs": [
    {
     "data": {
      "text/plain": [
       "542796"
      ]
     },
     "execution_count": 156,
     "metadata": {},
     "output_type": "execute_result"
    }
   ],
   "execution_count": 156
  },
  {
   "metadata": {
    "ExecuteTime": {
     "end_time": "2024-05-11T08:25:17.526043Z",
     "start_time": "2024-05-11T08:25:17.387235Z"
    }
   },
   "cell_type": "code",
   "source": [
    "df_unique = df.drop_duplicates(keep='first')\n",
    "df_unique.count()"
   ],
   "id": "2918ceba364e6018",
   "outputs": [
    {
     "data": {
      "text/plain": [
       "ProductType          7380\n",
       "Manufacturer         7380\n",
       "Area Code            7380\n",
       "Sourcing Channel     7380\n",
       "Product Size         7380\n",
       "Product Type         7380\n",
       "Month of Sourcing    7380\n",
       "Sourcing Cost        7380\n",
       "dtype: int64"
      ]
     },
     "execution_count": 157,
     "metadata": {},
     "output_type": "execute_result"
    }
   ],
   "execution_count": 157
  },
  {
   "metadata": {
    "ExecuteTime": {
     "end_time": "2024-05-11T08:25:17.529112Z",
     "start_time": "2024-05-11T08:25:17.526722Z"
    }
   },
   "cell_type": "code",
   "source": "df.columns",
   "id": "86296822b21dfa39",
   "outputs": [
    {
     "data": {
      "text/plain": [
       "Index(['ProductType', 'Manufacturer', 'Area Code', 'Sourcing Channel',\n",
       "       'Product Size', 'Product Type', 'Month of Sourcing', 'Sourcing Cost'],\n",
       "      dtype='object')"
      ]
     },
     "execution_count": 158,
     "metadata": {},
     "output_type": "execute_result"
    }
   ],
   "execution_count": 158
  },
  {
   "metadata": {},
   "cell_type": "markdown",
   "source": "## LabelEncoding columns",
   "id": "e03f64035c81cda1"
  },
  {
   "metadata": {
    "ExecuteTime": {
     "end_time": "2024-05-11T08:25:17.531254Z",
     "start_time": "2024-05-11T08:25:17.529673Z"
    }
   },
   "cell_type": "code",
   "source": [
    "from sklearn.preprocessing import LabelEncoder\n",
    "lenc = LabelEncoder()"
   ],
   "id": "674010a870e2d14b",
   "outputs": [],
   "execution_count": 159
  },
  {
   "metadata": {
    "ExecuteTime": {
     "end_time": "2024-05-11T08:25:17.586089Z",
     "start_time": "2024-05-11T08:25:17.531764Z"
    }
   },
   "cell_type": "code",
   "source": "df['ProdType_enc'] = lenc.fit_transform(df['ProductType'])",
   "id": "f13bbe4d93ec3869",
   "outputs": [],
   "execution_count": 160
  },
  {
   "metadata": {
    "ExecuteTime": {
     "end_time": "2024-05-11T08:25:17.640585Z",
     "start_time": "2024-05-11T08:25:17.588234Z"
    }
   },
   "cell_type": "code",
   "source": "df['Manufacturer_enc'] = lenc.fit_transform(df['Manufacturer'])",
   "id": "e254a7ca96e14a8b",
   "outputs": [],
   "execution_count": 161
  },
  {
   "metadata": {
    "ExecuteTime": {
     "end_time": "2024-05-11T08:25:17.698565Z",
     "start_time": "2024-05-11T08:25:17.641230Z"
    }
   },
   "cell_type": "code",
   "source": [
    "df.rename(columns={'Area Code': 'AreaCode'}, inplace=True)\n",
    "df['AreaCode_enc'] = lenc.fit_transform(df['AreaCode'])"
   ],
   "id": "a4c459e91db07b72",
   "outputs": [],
   "execution_count": 162
  },
  {
   "metadata": {
    "ExecuteTime": {
     "end_time": "2024-05-11T08:25:17.752441Z",
     "start_time": "2024-05-11T08:25:17.699330Z"
    }
   },
   "cell_type": "code",
   "source": [
    "df.rename(columns={'Sourcing Channel': 'SourcingChannel'}, inplace=True)\n",
    "df['SrcChnl_enc'] = lenc.fit_transform(df['SourcingChannel'])"
   ],
   "id": "585ed85e5c359aa8",
   "outputs": [],
   "execution_count": 163
  },
  {
   "metadata": {
    "ExecuteTime": {
     "end_time": "2024-05-11T08:25:17.805273Z",
     "start_time": "2024-05-11T08:25:17.753228Z"
    }
   },
   "cell_type": "code",
   "source": [
    "df.rename(columns={'Product Size': 'ProductSize'}, inplace=True)\n",
    "df['ProdSize_enc'] = lenc.fit_transform(df['ProductSize'])"
   ],
   "id": "ae67186072a1e635",
   "outputs": [],
   "execution_count": 164
  },
  {
   "metadata": {
    "ExecuteTime": {
     "end_time": "2024-05-11T08:25:17.865096Z",
     "start_time": "2024-05-11T08:25:17.805996Z"
    }
   },
   "cell_type": "code",
   "source": [
    "df.rename(columns={'Month of Sourcing': 'MonthofSourcing'}, inplace=True)\n",
    "df['SrcMonth_enc'] = lenc.fit_transform(df['MonthofSourcing'])"
   ],
   "id": "5a93307c6935d624",
   "outputs": [],
   "execution_count": 165
  },
  {
   "metadata": {
    "ExecuteTime": {
     "end_time": "2024-05-11T08:25:17.867566Z",
     "start_time": "2024-05-11T08:25:17.865817Z"
    }
   },
   "cell_type": "code",
   "source": "df.rename(columns={'Sourcing Cost': 'SourcingCost'}, inplace=True)",
   "id": "ca30ca4be174bda",
   "outputs": [],
   "execution_count": 166
  },
  {
   "metadata": {
    "ExecuteTime": {
     "end_time": "2024-05-11T08:25:17.870582Z",
     "start_time": "2024-05-11T08:25:17.868248Z"
    }
   },
   "cell_type": "code",
   "source": "df.columns",
   "id": "c5da193a3492f067",
   "outputs": [
    {
     "data": {
      "text/plain": [
       "Index(['ProductType', 'Manufacturer', 'AreaCode', 'SourcingChannel',\n",
       "       'ProductSize', 'Product Type', 'MonthofSourcing', 'SourcingCost',\n",
       "       'ProdType_enc', 'Manufacturer_enc', 'AreaCode_enc', 'SrcChnl_enc',\n",
       "       'ProdSize_enc', 'SrcMonth_enc'],\n",
       "      dtype='object')"
      ]
     },
     "execution_count": 167,
     "metadata": {},
     "output_type": "execute_result"
    }
   ],
   "execution_count": 167
  },
  {
   "metadata": {
    "ExecuteTime": {
     "end_time": "2024-05-11T08:25:17.876215Z",
     "start_time": "2024-05-11T08:25:17.871485Z"
    }
   },
   "cell_type": "code",
   "source": "df.head()",
   "id": "a2144375830a18e2",
   "outputs": [
    {
     "data": {
      "text/plain": [
       "  ProductType Manufacturer AreaCode SourcingChannel ProductSize Product Type  \\\n",
       "0        NTM3           X1      A28       WHOLESALE       Large       Powder   \n",
       "1        NTM2           X1       A9          DIRECT       Large       Powder   \n",
       "2        NTM3           X2      A20          DIRECT       Large       Powder   \n",
       "3        NTM3           X1      A18       WHOLESALE       Small       Powder   \n",
       "4        NTM2           X1      A28          DIRECT       Large       Liquid   \n",
       "\n",
       "  MonthofSourcing  SourcingCost  ProdType_enc  Manufacturer_enc  AreaCode_enc  \\\n",
       "0          May-21         10.16             2                 0            19   \n",
       "1          Oct-20        134.28             1                 0            44   \n",
       "2          Dec-20         12.46             2                 1            12   \n",
       "3          Feb-21        107.22             2                 0             9   \n",
       "4          Nov-20        197.76             1                 0            19   \n",
       "\n",
       "   SrcChnl_enc  ProdSize_enc  SrcMonth_enc  \n",
       "0            3             1             7  \n",
       "1            0             1             9  \n",
       "2            0             1             2  \n",
       "3            3             2             3  \n",
       "4            0             1             8  "
      ],
      "text/html": [
       "<div>\n",
       "<style scoped>\n",
       "    .dataframe tbody tr th:only-of-type {\n",
       "        vertical-align: middle;\n",
       "    }\n",
       "\n",
       "    .dataframe tbody tr th {\n",
       "        vertical-align: top;\n",
       "    }\n",
       "\n",
       "    .dataframe thead th {\n",
       "        text-align: right;\n",
       "    }\n",
       "</style>\n",
       "<table border=\"1\" class=\"dataframe\">\n",
       "  <thead>\n",
       "    <tr style=\"text-align: right;\">\n",
       "      <th></th>\n",
       "      <th>ProductType</th>\n",
       "      <th>Manufacturer</th>\n",
       "      <th>AreaCode</th>\n",
       "      <th>SourcingChannel</th>\n",
       "      <th>ProductSize</th>\n",
       "      <th>Product Type</th>\n",
       "      <th>MonthofSourcing</th>\n",
       "      <th>SourcingCost</th>\n",
       "      <th>ProdType_enc</th>\n",
       "      <th>Manufacturer_enc</th>\n",
       "      <th>AreaCode_enc</th>\n",
       "      <th>SrcChnl_enc</th>\n",
       "      <th>ProdSize_enc</th>\n",
       "      <th>SrcMonth_enc</th>\n",
       "    </tr>\n",
       "  </thead>\n",
       "  <tbody>\n",
       "    <tr>\n",
       "      <th>0</th>\n",
       "      <td>NTM3</td>\n",
       "      <td>X1</td>\n",
       "      <td>A28</td>\n",
       "      <td>WHOLESALE</td>\n",
       "      <td>Large</td>\n",
       "      <td>Powder</td>\n",
       "      <td>May-21</td>\n",
       "      <td>10.16</td>\n",
       "      <td>2</td>\n",
       "      <td>0</td>\n",
       "      <td>19</td>\n",
       "      <td>3</td>\n",
       "      <td>1</td>\n",
       "      <td>7</td>\n",
       "    </tr>\n",
       "    <tr>\n",
       "      <th>1</th>\n",
       "      <td>NTM2</td>\n",
       "      <td>X1</td>\n",
       "      <td>A9</td>\n",
       "      <td>DIRECT</td>\n",
       "      <td>Large</td>\n",
       "      <td>Powder</td>\n",
       "      <td>Oct-20</td>\n",
       "      <td>134.28</td>\n",
       "      <td>1</td>\n",
       "      <td>0</td>\n",
       "      <td>44</td>\n",
       "      <td>0</td>\n",
       "      <td>1</td>\n",
       "      <td>9</td>\n",
       "    </tr>\n",
       "    <tr>\n",
       "      <th>2</th>\n",
       "      <td>NTM3</td>\n",
       "      <td>X2</td>\n",
       "      <td>A20</td>\n",
       "      <td>DIRECT</td>\n",
       "      <td>Large</td>\n",
       "      <td>Powder</td>\n",
       "      <td>Dec-20</td>\n",
       "      <td>12.46</td>\n",
       "      <td>2</td>\n",
       "      <td>1</td>\n",
       "      <td>12</td>\n",
       "      <td>0</td>\n",
       "      <td>1</td>\n",
       "      <td>2</td>\n",
       "    </tr>\n",
       "    <tr>\n",
       "      <th>3</th>\n",
       "      <td>NTM3</td>\n",
       "      <td>X1</td>\n",
       "      <td>A18</td>\n",
       "      <td>WHOLESALE</td>\n",
       "      <td>Small</td>\n",
       "      <td>Powder</td>\n",
       "      <td>Feb-21</td>\n",
       "      <td>107.22</td>\n",
       "      <td>2</td>\n",
       "      <td>0</td>\n",
       "      <td>9</td>\n",
       "      <td>3</td>\n",
       "      <td>2</td>\n",
       "      <td>3</td>\n",
       "    </tr>\n",
       "    <tr>\n",
       "      <th>4</th>\n",
       "      <td>NTM2</td>\n",
       "      <td>X1</td>\n",
       "      <td>A28</td>\n",
       "      <td>DIRECT</td>\n",
       "      <td>Large</td>\n",
       "      <td>Liquid</td>\n",
       "      <td>Nov-20</td>\n",
       "      <td>197.76</td>\n",
       "      <td>1</td>\n",
       "      <td>0</td>\n",
       "      <td>19</td>\n",
       "      <td>0</td>\n",
       "      <td>1</td>\n",
       "      <td>8</td>\n",
       "    </tr>\n",
       "  </tbody>\n",
       "</table>\n",
       "</div>"
      ]
     },
     "execution_count": 168,
     "metadata": {},
     "output_type": "execute_result"
    }
   ],
   "execution_count": 168
  },
  {
   "metadata": {
    "ExecuteTime": {
     "end_time": "2024-05-11T08:25:17.992166Z",
     "start_time": "2024-05-11T08:25:17.876770Z"
    }
   },
   "cell_type": "code",
   "source": [
    "label_mappings = {}\n",
    "\n",
    "for col in df.columns:\n",
    "    if df[col].dtype == 'object':\n",
    "        unique_values = df[col].unique()\n",
    "        encoded_labels = lenc.fit_transform(unique_values)\n",
    "        label_mappings[col] = []\n",
    "        for i, j in zip(unique_values, encoded_labels):\n",
    "            label_mappings[col].append([i, j])\n",
    "\n",
    "print(\"Label Mappings:\")\n",
    "print(label_mappings)"
   ],
   "id": "cfceef65a43d64d8",
   "outputs": [
    {
     "name": "stdout",
     "output_type": "stream",
     "text": [
      "Label Mappings:\n",
      "{'ProductType': [['NTM3', 2], ['NTM2', 1], ['NTM1', 0]], 'Manufacturer': [['X1', 0], ['X2', 1], ['X3', 2]], 'AreaCode': [['A28', 19], ['A9', 44], ['A20', 12], ['A18', 9], ['A10', 1], ['A19', 10], ['A29', 20], ['A7', 42], ['A2', 11], ['A8', 43], ['A4', 32], ['A6', 41], ['A30', 22], ['A35', 27], ['A44', 37], ['A45', 38], ['A31', 23], ['A25', 17], ['A37', 29], ['A32', 24], ['A34', 26], ['A46', 39], ['A11', 2], ['A39', 31], ['A41', 34], ['A17', 8], ['A38', 30], ['A5', 40], ['A22', 14], ['A3', 21], ['A12', 3], ['A24', 16], ['A36', 28], ['A42', 35], ['A14', 5], ['A43', 36], ['A33', 25], ['A15', 6], ['A40', 33], ['A21', 13], ['A16', 7], ['A13', 4], ['A1', 0], ['A23', 15], ['A26', 18]], 'SourcingChannel': [['WHOLESALE', 3], ['DIRECT', 0], ['RETAIL', 2], ['ECOM', 1]], 'ProductSize': [['Large', 1], ['Small', 2], ['ExtraLarge', 0]], 'Product Type': [['Powder', 1], ['Liquid', 0]], 'MonthofSourcing': [['May-21', 7], ['Oct-20', 9], ['Dec-20', 2], ['Feb-21', 3], ['Nov-20', 8], ['Sep-20', 10], ['Mar-21', 6], ['Jan-21', 4], ['Apr-21', 0], ['Jul-20', 5], ['Aug-20', 1]]}\n"
     ]
    }
   ],
   "execution_count": 169
  },
  {
   "metadata": {
    "ExecuteTime": {
     "end_time": "2024-05-11T08:30:47.126048Z",
     "start_time": "2024-05-11T08:30:47.121180Z"
    }
   },
   "cell_type": "code",
   "source": [
    "import json\n",
    "import pandas as pd\n",
    "\n",
    "label_mappings = {\n",
    "    key: [[val[0], int(val[1])] for val in values]\n",
    "    for key, values in label_mappings.items()\n",
    "}\n",
    "\n",
    "filename = 'label_mapping.json'\n",
    "\n",
    "with open(filename, 'w') as f:\n",
    "    json.dump(label_mappings, f, indent=4)\n",
    "\n",
    "print(\"Label Mapping Saved to:\", filename)"
   ],
   "id": "3229f3eb5541b3bf",
   "outputs": [
    {
     "name": "stdout",
     "output_type": "stream",
     "text": [
      "Label Mapping Saved to: label_mapping.json\n"
     ]
    }
   ],
   "execution_count": 173
  },
  {
   "metadata": {},
   "cell_type": "markdown",
   "source": "## Encoded Dataset",
   "id": "8528c2a0a2725971"
  },
  {
   "metadata": {
    "ExecuteTime": {
     "end_time": "2024-05-11T08:31:06.036763Z",
     "start_time": "2024-05-11T08:31:06.022487Z"
    }
   },
   "cell_type": "code",
   "source": "df_enc = df[['ProdType_enc', 'Manufacturer_enc', 'AreaCode_enc', 'SrcChnl_enc', 'ProdSize_enc', 'SrcMonth_enc', 'SourcingCost']]",
   "id": "41e9c4e6a0c19ddc",
   "outputs": [],
   "execution_count": 174
  },
  {
   "metadata": {
    "ExecuteTime": {
     "end_time": "2024-05-11T08:31:06.649629Z",
     "start_time": "2024-05-11T08:31:06.643296Z"
    }
   },
   "cell_type": "code",
   "source": "df_enc.head()",
   "id": "8164be37aec5a132",
   "outputs": [
    {
     "data": {
      "text/plain": [
       "   ProdType_enc  Manufacturer_enc  AreaCode_enc  SrcChnl_enc  ProdSize_enc  \\\n",
       "0             2                 0            19            3             1   \n",
       "1             1                 0            44            0             1   \n",
       "2             2                 1            12            0             1   \n",
       "3             2                 0             9            3             2   \n",
       "4             1                 0            19            0             1   \n",
       "\n",
       "   SrcMonth_enc  SourcingCost  \n",
       "0             7         10.16  \n",
       "1             9        134.28  \n",
       "2             2         12.46  \n",
       "3             3        107.22  \n",
       "4             8        197.76  "
      ],
      "text/html": [
       "<div>\n",
       "<style scoped>\n",
       "    .dataframe tbody tr th:only-of-type {\n",
       "        vertical-align: middle;\n",
       "    }\n",
       "\n",
       "    .dataframe tbody tr th {\n",
       "        vertical-align: top;\n",
       "    }\n",
       "\n",
       "    .dataframe thead th {\n",
       "        text-align: right;\n",
       "    }\n",
       "</style>\n",
       "<table border=\"1\" class=\"dataframe\">\n",
       "  <thead>\n",
       "    <tr style=\"text-align: right;\">\n",
       "      <th></th>\n",
       "      <th>ProdType_enc</th>\n",
       "      <th>Manufacturer_enc</th>\n",
       "      <th>AreaCode_enc</th>\n",
       "      <th>SrcChnl_enc</th>\n",
       "      <th>ProdSize_enc</th>\n",
       "      <th>SrcMonth_enc</th>\n",
       "      <th>SourcingCost</th>\n",
       "    </tr>\n",
       "  </thead>\n",
       "  <tbody>\n",
       "    <tr>\n",
       "      <th>0</th>\n",
       "      <td>2</td>\n",
       "      <td>0</td>\n",
       "      <td>19</td>\n",
       "      <td>3</td>\n",
       "      <td>1</td>\n",
       "      <td>7</td>\n",
       "      <td>10.16</td>\n",
       "    </tr>\n",
       "    <tr>\n",
       "      <th>1</th>\n",
       "      <td>1</td>\n",
       "      <td>0</td>\n",
       "      <td>44</td>\n",
       "      <td>0</td>\n",
       "      <td>1</td>\n",
       "      <td>9</td>\n",
       "      <td>134.28</td>\n",
       "    </tr>\n",
       "    <tr>\n",
       "      <th>2</th>\n",
       "      <td>2</td>\n",
       "      <td>1</td>\n",
       "      <td>12</td>\n",
       "      <td>0</td>\n",
       "      <td>1</td>\n",
       "      <td>2</td>\n",
       "      <td>12.46</td>\n",
       "    </tr>\n",
       "    <tr>\n",
       "      <th>3</th>\n",
       "      <td>2</td>\n",
       "      <td>0</td>\n",
       "      <td>9</td>\n",
       "      <td>3</td>\n",
       "      <td>2</td>\n",
       "      <td>3</td>\n",
       "      <td>107.22</td>\n",
       "    </tr>\n",
       "    <tr>\n",
       "      <th>4</th>\n",
       "      <td>1</td>\n",
       "      <td>0</td>\n",
       "      <td>19</td>\n",
       "      <td>0</td>\n",
       "      <td>1</td>\n",
       "      <td>8</td>\n",
       "      <td>197.76</td>\n",
       "    </tr>\n",
       "  </tbody>\n",
       "</table>\n",
       "</div>"
      ]
     },
     "execution_count": 175,
     "metadata": {},
     "output_type": "execute_result"
    }
   ],
   "execution_count": 175
  },
  {
   "metadata": {
    "ExecuteTime": {
     "end_time": "2024-05-11T08:36:48.201028Z",
     "start_time": "2024-05-11T08:36:47.416082Z"
    }
   },
   "cell_type": "code",
   "source": "df_enc.to_csv('df_enc.csv')",
   "id": "ad7c44c4f1eee6ea",
   "outputs": [],
   "execution_count": 176
  },
  {
   "metadata": {},
   "cell_type": "code",
   "outputs": [],
   "execution_count": null,
   "source": "",
   "id": "fd09153388de6e2e"
  }
 ],
 "metadata": {
  "kernelspec": {
   "display_name": "Python 3",
   "language": "python",
   "name": "python3"
  },
  "language_info": {
   "codemirror_mode": {
    "name": "ipython",
    "version": 2
   },
   "file_extension": ".py",
   "mimetype": "text/x-python",
   "name": "python",
   "nbconvert_exporter": "python",
   "pygments_lexer": "ipython2",
   "version": "2.7.6"
  }
 },
 "nbformat": 4,
 "nbformat_minor": 5
}
